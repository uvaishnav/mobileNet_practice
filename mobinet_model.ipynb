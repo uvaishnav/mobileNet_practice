{
 "cells": [
  {
   "cell_type": "code",
   "execution_count": 39,
   "metadata": {},
   "outputs": [],
   "source": [
    "import tensorflow as tf"
   ]
  },
  {
   "cell_type": "code",
   "execution_count": 40,
   "metadata": {},
   "outputs": [],
   "source": [
    "from tensorflow.keras.layers import Input,Conv2D,BatchNormalization,ReLU,DepthwiseConv2D,GlobalAveragePooling2D,Dense\n",
    "from tensorflow.keras.preprocessing.image import ImageDataGenerator\n",
    "from tensorflow.keras.models import Model"
   ]
  },
  {
   "cell_type": "markdown",
   "metadata": {},
   "source": [
    "DEFINING RELU6 ACTIVATION"
   ]
  },
  {
   "cell_type": "code",
   "execution_count": 41,
   "metadata": {},
   "outputs": [],
   "source": [
    "relu6 = ReLU(max_value=6,name='ReLU6')"
   ]
  },
  {
   "cell_type": "markdown",
   "metadata": {},
   "source": [
    "IMPORTING IMAGES"
   ]
  },
  {
   "cell_type": "code",
   "execution_count": 42,
   "metadata": {},
   "outputs": [
    {
     "name": "stdout",
     "output_type": "stream",
     "text": [
      "Found 500 images belonging to 2 classes.\n",
      "Found 100 images belonging to 2 classes.\n"
     ]
    }
   ],
   "source": [
    "train_path='PandasBears/Train'\n",
    "test_path='PandasBears/Test'\n",
    "\n",
    "datagen=ImageDataGenerator(\n",
    "    rescale = 1/255.0\n",
    ")\n",
    "\n",
    "train_generator=datagen.flow_from_directory(\n",
    "    train_path,\n",
    "    target_size=(224,224),\n",
    "    batch_size=16,\n",
    "    class_mode='binary'\n",
    ")\n",
    "\n",
    "test_generator=datagen.flow_from_directory(\n",
    "    test_path,\n",
    "    target_size=(224,224),\n",
    "    batch_size=16,\n",
    "    class_mode='binary'\n",
    ")"
   ]
  },
  {
   "cell_type": "code",
   "execution_count": 43,
   "metadata": {},
   "outputs": [
    {
     "name": "stdout",
     "output_type": "stream",
     "text": [
      "(224, 224, 3)\n"
     ]
    }
   ],
   "source": [
    "input_shape=train_generator.image_shape\n",
    "print(input_shape)"
   ]
  },
  {
   "cell_type": "markdown",
   "metadata": {},
   "source": [
    "DEFINING COMPONENTS OF MOBILENETV2 ARCHETECTURE"
   ]
  },
  {
   "cell_type": "code",
   "execution_count": 44,
   "metadata": {},
   "outputs": [],
   "source": [
    "def conv_block(inputs,num_filters,kernel_size,strides):\n",
    "    x=Conv2D(num_filters,kernel_size,strides=strides,padding='same')(inputs)\n",
    "    x=BatchNormalization()(x)\n",
    "    x=relu6(x)\n",
    "    return x\n",
    "\n",
    "def bottleneck(inputs,num_filters,kernel_size,strides,expansion):\n",
    "    \n",
    "    # Expansion Phase\n",
    "    x=Conv2D(expansion*num_filters,(1,1),strides=(1,1),padding='same')(inputs)\n",
    "    x=BatchNormalization()(x)\n",
    "    x=relu6(x)\n",
    "\n",
    "    # Depth Wise Convolution\n",
    "    x=DepthwiseConv2D(kernel_size,strides=strides,padding='same')(x)\n",
    "    x=BatchNormalization()(x)\n",
    "    x=relu6(x)\n",
    "\n",
    "    # Pointwise Convolution\n",
    "    x=Conv2D(num_filters,(1,1),strides=(1,1),padding='same')(x)\n",
    "    x=BatchNormalization()(x)\n",
    "\n",
    "    if strides==(1,1) and inputs.shape[-1]==num_filters:\n",
    "        return tf.keras.layers.Add()([inputs,x])\n",
    "    return x\n",
    "\n",
    "\n"
   ]
  },
  {
   "cell_type": "markdown",
   "metadata": {},
   "source": [
    "DEFINING MOBILENET V2 ARCHETECTURE"
   ]
  },
  {
   "cell_type": "code",
   "execution_count": 45,
   "metadata": {},
   "outputs": [],
   "source": [
    "# def mobilenetv2(input_shape, num_classes):\n",
    "#     input_tensor=Input(shape=input_shape)\n",
    "\n",
    "#     x=conv_block(input_tensor,32,(3,3),(2,2))\n",
    "\n",
    "#     x=bottleneck(x,16,(3,3),(1,1),1)\n",
    "\n",
    "#     for i in range(2):\n",
    "#         x=bottleneck(x,24,(3,3),(2,2),6)\n",
    "\n",
    "#     for i in range(3):\n",
    "#         x=bottleneck(x,32,(3,3),(2,2),6)\n",
    "\n",
    "#     for i in range(4):\n",
    "#         x=bottleneck(x,64,(3,3),(2,2),6)\n",
    "\n",
    "#     for i in range(3):\n",
    "#         x=bottleneck(x,96,(3,3),(1,1),6)\n",
    "\n",
    "#     for i in range(3):\n",
    "#         x=bottleneck(x,160,(3,3),(2,2),6)\n",
    "\n",
    "#     x=bottleneck(x,320,(3,3),(1,1),6)\n",
    "\n",
    "#     x=conv_block(x,1280,(1,1),(1,1))\n",
    "\n",
    "#     x=GlobalAveragePooling2D()(x)\n",
    "\n",
    "#     x=Dense(num_classes,activation='softmax')(x)\n",
    "\n",
    "#     model=Model(inputs=input_tensor,outputs=x)    \n",
    "#     return model\n",
    "\n",
    "    "
   ]
  },
  {
   "cell_type": "code",
   "execution_count": 46,
   "metadata": {},
   "outputs": [],
   "source": [
    "def mobilenetv2(input_shape, num_classes):\n",
    "    input_tensor=Input(shape=input_shape)\n",
    "\n",
    "    x=conv_block(input_tensor,32,(3,3),(2,2))\n",
    "\n",
    "    x=bottleneck(x,16,(3,3),(1,1),1)\n",
    "    x=bottleneck(x,24,(3,3),(2,2),6)\n",
    "    x=bottleneck(x,32,(3,3),(2,2),6)\n",
    "    x=bottleneck(x,64,(3,3),(2,2),6)\n",
    "    x=bottleneck(x,96,(3,3),(1,1),6)\n",
    "    x=bottleneck(x,160,(3,3),(2,2),6)\n",
    "    x=bottleneck(x,320,(3,3),(1,1),6)\n",
    "\n",
    "    x=conv_block(x,1280,(1,1),(1,1))\n",
    "    x=GlobalAveragePooling2D()(x)\n",
    "    x=Dense(num_classes,activation='softmax')(x)\n",
    "\n",
    "    model=Model(inputs=input_tensor,outputs=x)    \n",
    "    return model\n",
    "\n",
    "    "
   ]
  },
  {
   "cell_type": "code",
   "execution_count": 47,
   "metadata": {},
   "outputs": [
    {
     "name": "stdout",
     "output_type": "stream",
     "text": [
      "Model: \"model_2\"\n",
      "__________________________________________________________________________________________________\n",
      " Layer (type)                Output Shape                 Param #   Connected to                  \n",
      "==================================================================================================\n",
      " input_3 (InputLayer)        [(None, 224, 224, 3)]        0         []                            \n",
      "                                                                                                  \n",
      " conv2d_72 (Conv2D)          (None, 112, 112, 32)         896       ['input_3[0][0]']             \n",
      "                                                                                                  \n",
      " batch_normalization_106 (B  (None, 112, 112, 32)         128       ['conv2d_72[0][0]']           \n",
      " atchNormalization)                                                                               \n",
      "                                                                                                  \n",
      " ReLU6 (ReLU)                multiple                     0         ['batch_normalization_106[0][0\n",
      "                                                                    ]',                           \n",
      "                                                                     'batch_normalization_107[0][0\n",
      "                                                                    ]',                           \n",
      "                                                                     'batch_normalization_108[0][0\n",
      "                                                                    ]',                           \n",
      "                                                                     'batch_normalization_110[0][0\n",
      "                                                                    ]',                           \n",
      "                                                                     'batch_normalization_111[0][0\n",
      "                                                                    ]',                           \n",
      "                                                                     'batch_normalization_113[0][0\n",
      "                                                                    ]',                           \n",
      "                                                                     'batch_normalization_114[0][0\n",
      "                                                                    ]',                           \n",
      "                                                                     'batch_normalization_116[0][0\n",
      "                                                                    ]',                           \n",
      "                                                                     'batch_normalization_117[0][0\n",
      "                                                                    ]',                           \n",
      "                                                                     'batch_normalization_119[0][0\n",
      "                                                                    ]',                           \n",
      "                                                                     'batch_normalization_120[0][0\n",
      "                                                                    ]',                           \n",
      "                                                                     'batch_normalization_122[0][0\n",
      "                                                                    ]',                           \n",
      "                                                                     'batch_normalization_123[0][0\n",
      "                                                                    ]',                           \n",
      "                                                                     'batch_normalization_125[0][0\n",
      "                                                                    ]',                           \n",
      "                                                                     'batch_normalization_126[0][0\n",
      "                                                                    ]',                           \n",
      "                                                                     'batch_normalization_128[0][0\n",
      "                                                                    ]']                           \n",
      "                                                                                                  \n",
      " conv2d_73 (Conv2D)          (None, 112, 112, 16)         528       ['ReLU6[0][0]']               \n",
      "                                                                                                  \n",
      " batch_normalization_107 (B  (None, 112, 112, 16)         64        ['conv2d_73[0][0]']           \n",
      " atchNormalization)                                                                               \n",
      "                                                                                                  \n",
      " depthwise_conv2d_34 (Depth  (None, 112, 112, 16)         160       ['ReLU6[1][0]']               \n",
      " wiseConv2D)                                                                                      \n",
      "                                                                                                  \n",
      " batch_normalization_108 (B  (None, 112, 112, 16)         64        ['depthwise_conv2d_34[0][0]'] \n",
      " atchNormalization)                                                                               \n",
      "                                                                                                  \n",
      " conv2d_74 (Conv2D)          (None, 112, 112, 16)         272       ['ReLU6[2][0]']               \n",
      "                                                                                                  \n",
      " batch_normalization_109 (B  (None, 112, 112, 16)         64        ['conv2d_74[0][0]']           \n",
      " atchNormalization)                                                                               \n",
      "                                                                                                  \n",
      " conv2d_75 (Conv2D)          (None, 112, 112, 144)        2448      ['batch_normalization_109[0][0\n",
      "                                                                    ]']                           \n",
      "                                                                                                  \n",
      " batch_normalization_110 (B  (None, 112, 112, 144)        576       ['conv2d_75[0][0]']           \n",
      " atchNormalization)                                                                               \n",
      "                                                                                                  \n",
      " depthwise_conv2d_35 (Depth  (None, 56, 56, 144)          1440      ['ReLU6[3][0]']               \n",
      " wiseConv2D)                                                                                      \n",
      "                                                                                                  \n",
      " batch_normalization_111 (B  (None, 56, 56, 144)          576       ['depthwise_conv2d_35[0][0]'] \n",
      " atchNormalization)                                                                               \n",
      "                                                                                                  \n",
      " conv2d_76 (Conv2D)          (None, 56, 56, 24)           3480      ['ReLU6[4][0]']               \n",
      "                                                                                                  \n",
      " batch_normalization_112 (B  (None, 56, 56, 24)           96        ['conv2d_76[0][0]']           \n",
      " atchNormalization)                                                                               \n",
      "                                                                                                  \n",
      " conv2d_77 (Conv2D)          (None, 56, 56, 192)          4800      ['batch_normalization_112[0][0\n",
      "                                                                    ]']                           \n",
      "                                                                                                  \n",
      " batch_normalization_113 (B  (None, 56, 56, 192)          768       ['conv2d_77[0][0]']           \n",
      " atchNormalization)                                                                               \n",
      "                                                                                                  \n",
      " depthwise_conv2d_36 (Depth  (None, 28, 28, 192)          1920      ['ReLU6[5][0]']               \n",
      " wiseConv2D)                                                                                      \n",
      "                                                                                                  \n",
      " batch_normalization_114 (B  (None, 28, 28, 192)          768       ['depthwise_conv2d_36[0][0]'] \n",
      " atchNormalization)                                                                               \n",
      "                                                                                                  \n",
      " conv2d_78 (Conv2D)          (None, 28, 28, 32)           6176      ['ReLU6[6][0]']               \n",
      "                                                                                                  \n",
      " batch_normalization_115 (B  (None, 28, 28, 32)           128       ['conv2d_78[0][0]']           \n",
      " atchNormalization)                                                                               \n",
      "                                                                                                  \n",
      " conv2d_79 (Conv2D)          (None, 28, 28, 384)          12672     ['batch_normalization_115[0][0\n",
      "                                                                    ]']                           \n",
      "                                                                                                  \n",
      " batch_normalization_116 (B  (None, 28, 28, 384)          1536      ['conv2d_79[0][0]']           \n",
      " atchNormalization)                                                                               \n",
      "                                                                                                  \n",
      " depthwise_conv2d_37 (Depth  (None, 14, 14, 384)          3840      ['ReLU6[7][0]']               \n",
      " wiseConv2D)                                                                                      \n",
      "                                                                                                  \n",
      " batch_normalization_117 (B  (None, 14, 14, 384)          1536      ['depthwise_conv2d_37[0][0]'] \n",
      " atchNormalization)                                                                               \n",
      "                                                                                                  \n",
      " conv2d_80 (Conv2D)          (None, 14, 14, 64)           24640     ['ReLU6[8][0]']               \n",
      "                                                                                                  \n",
      " batch_normalization_118 (B  (None, 14, 14, 64)           256       ['conv2d_80[0][0]']           \n",
      " atchNormalization)                                                                               \n",
      "                                                                                                  \n",
      " conv2d_81 (Conv2D)          (None, 14, 14, 576)          37440     ['batch_normalization_118[0][0\n",
      "                                                                    ]']                           \n",
      "                                                                                                  \n",
      " batch_normalization_119 (B  (None, 14, 14, 576)          2304      ['conv2d_81[0][0]']           \n",
      " atchNormalization)                                                                               \n",
      "                                                                                                  \n",
      " depthwise_conv2d_38 (Depth  (None, 14, 14, 576)          5760      ['ReLU6[9][0]']               \n",
      " wiseConv2D)                                                                                      \n",
      "                                                                                                  \n",
      " batch_normalization_120 (B  (None, 14, 14, 576)          2304      ['depthwise_conv2d_38[0][0]'] \n",
      " atchNormalization)                                                                               \n",
      "                                                                                                  \n",
      " conv2d_82 (Conv2D)          (None, 14, 14, 96)           55392     ['ReLU6[10][0]']              \n",
      "                                                                                                  \n",
      " batch_normalization_121 (B  (None, 14, 14, 96)           384       ['conv2d_82[0][0]']           \n",
      " atchNormalization)                                                                               \n",
      "                                                                                                  \n",
      " conv2d_83 (Conv2D)          (None, 14, 14, 960)          93120     ['batch_normalization_121[0][0\n",
      "                                                                    ]']                           \n",
      "                                                                                                  \n",
      " batch_normalization_122 (B  (None, 14, 14, 960)          3840      ['conv2d_83[0][0]']           \n",
      " atchNormalization)                                                                               \n",
      "                                                                                                  \n",
      " depthwise_conv2d_39 (Depth  (None, 7, 7, 960)            9600      ['ReLU6[11][0]']              \n",
      " wiseConv2D)                                                                                      \n",
      "                                                                                                  \n",
      " batch_normalization_123 (B  (None, 7, 7, 960)            3840      ['depthwise_conv2d_39[0][0]'] \n",
      " atchNormalization)                                                                               \n",
      "                                                                                                  \n",
      " conv2d_84 (Conv2D)          (None, 7, 7, 160)            153760    ['ReLU6[12][0]']              \n",
      "                                                                                                  \n",
      " batch_normalization_124 (B  (None, 7, 7, 160)            640       ['conv2d_84[0][0]']           \n",
      " atchNormalization)                                                                               \n",
      "                                                                                                  \n",
      " conv2d_85 (Conv2D)          (None, 7, 7, 1920)           309120    ['batch_normalization_124[0][0\n",
      "                                                                    ]']                           \n",
      "                                                                                                  \n",
      " batch_normalization_125 (B  (None, 7, 7, 1920)           7680      ['conv2d_85[0][0]']           \n",
      " atchNormalization)                                                                               \n",
      "                                                                                                  \n",
      " depthwise_conv2d_40 (Depth  (None, 7, 7, 1920)           19200     ['ReLU6[13][0]']              \n",
      " wiseConv2D)                                                                                      \n",
      "                                                                                                  \n",
      " batch_normalization_126 (B  (None, 7, 7, 1920)           7680      ['depthwise_conv2d_40[0][0]'] \n",
      " atchNormalization)                                                                               \n",
      "                                                                                                  \n",
      " conv2d_86 (Conv2D)          (None, 7, 7, 320)            614720    ['ReLU6[14][0]']              \n",
      "                                                                                                  \n",
      " batch_normalization_127 (B  (None, 7, 7, 320)            1280      ['conv2d_86[0][0]']           \n",
      " atchNormalization)                                                                               \n",
      "                                                                                                  \n",
      " conv2d_87 (Conv2D)          (None, 7, 7, 1280)           410880    ['batch_normalization_127[0][0\n",
      "                                                                    ]']                           \n",
      "                                                                                                  \n",
      " batch_normalization_128 (B  (None, 7, 7, 1280)           5120      ['conv2d_87[0][0]']           \n",
      " atchNormalization)                                                                               \n",
      "                                                                                                  \n",
      " global_average_pooling2d_2  (None, 1280)                 0         ['ReLU6[15][0]']              \n",
      "  (GlobalAveragePooling2D)                                                                        \n",
      "                                                                                                  \n",
      " dense_2 (Dense)             (None, 2)                    2562      ['global_average_pooling2d_2[0\n",
      "                                                                    ][0]']                        \n",
      "                                                                                                  \n",
      "==================================================================================================\n",
      "Total params: 1816458 (6.93 MB)\n",
      "Trainable params: 1795642 (6.85 MB)\n",
      "Non-trainable params: 20816 (81.31 KB)\n",
      "__________________________________________________________________________________________________\n"
     ]
    }
   ],
   "source": [
    "model=mobilenetv2(input_shape,2)\n",
    "model.summary()"
   ]
  },
  {
   "cell_type": "markdown",
   "metadata": {},
   "source": [
    "COMPILE THE MODEL"
   ]
  },
  {
   "cell_type": "code",
   "execution_count": 48,
   "metadata": {},
   "outputs": [],
   "source": [
    "model.compile(\n",
    "    optimizer='adam',\n",
    "    loss='sparse_categorical_crossentropy',\n",
    "    metrics=['accuracy']\n",
    ")"
   ]
  },
  {
   "cell_type": "markdown",
   "metadata": {},
   "source": [
    "TRAIN THE MODEL"
   ]
  },
  {
   "cell_type": "code",
   "execution_count": 49,
   "metadata": {},
   "outputs": [
    {
     "name": "stdout",
     "output_type": "stream",
     "text": [
      "Epoch 1/10\n",
      "32/32 [==============================] - 15s 443ms/step - loss: 0.1420 - accuracy: 0.9320 - val_loss: 0.8569 - val_accuracy: 0.5000\n",
      "Epoch 2/10\n",
      "32/32 [==============================] - 13s 421ms/step - loss: 0.0437 - accuracy: 0.9820 - val_loss: 0.8408 - val_accuracy: 0.5000\n",
      "Epoch 3/10\n",
      "32/32 [==============================] - 14s 425ms/step - loss: 0.0147 - accuracy: 0.9940 - val_loss: 0.8672 - val_accuracy: 0.5000\n",
      "Epoch 4/10\n",
      "32/32 [==============================] - 14s 442ms/step - loss: 0.0350 - accuracy: 0.9940 - val_loss: 0.7233 - val_accuracy: 0.5000\n",
      "Epoch 5/10\n",
      "32/32 [==============================] - 14s 445ms/step - loss: 0.0177 - accuracy: 0.9940 - val_loss: 0.7179 - val_accuracy: 0.5000\n",
      "Epoch 6/10\n",
      "32/32 [==============================] - 14s 426ms/step - loss: 0.0073 - accuracy: 0.9960 - val_loss: 0.7729 - val_accuracy: 0.5000\n",
      "Epoch 7/10\n",
      "32/32 [==============================] - 14s 430ms/step - loss: 0.0234 - accuracy: 0.9940 - val_loss: 0.6968 - val_accuracy: 0.5000\n",
      "Epoch 8/10\n",
      "32/32 [==============================] - 14s 433ms/step - loss: 0.0540 - accuracy: 0.9880 - val_loss: 0.8257 - val_accuracy: 0.5000\n",
      "Epoch 9/10\n",
      "32/32 [==============================] - 14s 434ms/step - loss: 0.0035 - accuracy: 0.9980 - val_loss: 1.5415 - val_accuracy: 0.5000\n",
      "Epoch 10/10\n",
      "32/32 [==============================] - 14s 441ms/step - loss: 9.0004e-04 - accuracy: 1.0000 - val_loss: 2.2641 - val_accuracy: 0.5000\n"
     ]
    }
   ],
   "source": [
    "history = model.fit(\n",
    "    train_generator,\n",
    "    epochs=10,\n",
    "    steps_per_epoch=len(train_generator),\n",
    "    validation_data=test_generator,\n",
    "    validation_steps=len(test_generator)\n",
    ")"
   ]
  },
  {
   "cell_type": "markdown",
   "metadata": {},
   "source": [
    "PLOTING ACCURACY AND LOSS GRAPH"
   ]
  },
  {
   "cell_type": "code",
   "execution_count": 50,
   "metadata": {},
   "outputs": [
    {
     "data": {
      "image/png": "[encoded data removed]",
      "text/plain": [
       "<Figure size 640x480 with 1 Axes>"
      ]
     },
     "metadata": {},
     "output_type": "display_data"
    },
    {
     "data": {
      "image/png": "[encoded data removed]",
      "text/plain": [
       "<Figure size 640x480 with 1 Axes>"
      ]
     },
     "metadata": {},
     "output_type": "display_data"
    }
   ],
   "source": [
    "import matplotlib.pyplot as plt\n",
    "\n",
    "plt.plot(history.history['accuracy'])\n",
    "plt.plot(history.history['val_accuracy'])\n",
    "plt.xlabel(\"Epoch\")\n",
    "plt.ylabel(\"Accuracy\")\n",
    "plt.title(\"Model Accuracy\")\n",
    "plt.legend(['train','test'])\n",
    "plt.show()\n",
    "\n",
    "plt.plot(history.history['loss'])\n",
    "plt.plot(history.history['val_loss'])\n",
    "plt.xlabel(\"Epoch\")\n",
    "plt.ylabel(\"Loss\")\n",
    "plt.title(\"Model Loss\")\n",
    "plt.legend(['train','test'])\n",
    "plt.show()"
   ]
  },
  {
   "cell_type": "code",
   "execution_count": null,
   "metadata": {},
   "outputs": [],
   "source": []
  }
 ],
 "metadata": {
  "kernelspec": {
   "display_name": "base",
   "language": "python",
   "name": "python3"
  },
  "language_info": {
   "codemirror_mode": {
    "name": "ipython",
    "version": 3
   },
   "file_extension": ".py",
   "mimetype": "text/x-python",
   "name": "python",
   "nbconvert_exporter": "python",
   "pygments_lexer": "ipython3",
   "version": "3.11.3"
  },
  "orig_nbformat": 4
 },
 "nbformat": 4,
 "nbformat_minor": 2
}
